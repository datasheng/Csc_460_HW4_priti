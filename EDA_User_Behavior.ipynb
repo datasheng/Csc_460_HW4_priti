{
 "cells": [
  {
   "cell_type": "code",
   "execution_count": null,
   "id": "ef29ff7e-1d45-4a9c-8f1a-8588887f09dd",
   "metadata": {},
   "outputs": [],
   "source": [
    "import pandas as pd\n",
    "import matplotlib.pyplot as plt\n",
    "import seaborn as sns\n",
    "\n",
    "data = pd.read_csv('user_behavior_dataset.csv')\n",
    "data.head()\n",
    "data.info()"
   ]
  },
  {
   "cell_type": "code",
   "execution_count": null,
   "id": "05fbc39d-444c-42ee-84b5-c22c3f92fbfb",
   "metadata": {},
   "outputs": [],
   "source": [
    "numerical_columns = ['App Usage Time (min/day)', 'Screen On Time (hours/day)', \n",
    "                     'Battery Drain (mAh/day)', 'Number of Apps Installed', \n",
    "                     'Data Usage (MB/day)', 'Age', 'User Behavior Class']\n",
    "\n",
    "desc_stats = data[numerical_columns].describe()\n",
    "desc_stats\n",
    "Q1 = data[numerical_columns].quantile(0.25)\n",
    "Q3 = data[numerical_columns].quantile(0.75)\n",
    "IQR = Q3 - Q1\n",
    "outliers = ((data[numerical_columns] < (Q1 - 1.5 * IQR)) | (data[numerical_columns] > (Q3 + 1.5 * IQR)))\n",
    "outliers.sum()  "
   ]
  },
  {
   "cell_type": "code",
   "execution_count": null,
   "id": "cdde0d3f-e444-4b25-8884-2fda616a3a27",
   "metadata": {},
   "outputs": [],
   "source": [
    "data[numerical_columns].hist(bins=20, figsize=(14, 10))\n",
    "plt.suptitle(\"Histograms for Numerical Variables\")\n",
    "plt.show()\n",
    "\n",
    "categorical_columns = ['Device Model', 'Operating System', 'Gender']\n",
    "for col in categorical_columns:\n",
    "    sns.countplot(data[col])\n",
    "    plt.title(f\"Bar Chart for {col}\")\n",
    "    plt.show()"
   ]
  },
  {
   "cell_type": "code",
   "execution_count": null,
   "id": "1cca3118-2cc9-4cc9-9a5a-669b959d39a8",
   "metadata": {},
   "outputs": [],
   "source": [
    "plt.figure(figsize=(10,6))\n",
    "sns.boxplot(data=data.select_dtypes(include=['int64', 'float64'])) \n",
    "\n",
    "plt.xticks(rotation=45) \n",
    "plt.xlabel('Numerical Variables')  \n",
    "plt.ylabel('Value Distribution') \n",
    "plt.title('Box Plot of All Numerical Variables')\n",
    "\n",
    "plt.show()"
   ]
  },
  {
   "cell_type": "code",
   "execution_count": null,
   "id": "622cfcf9-3b62-45c3-96fc-32e37f17993f",
   "metadata": {},
   "outputs": [],
   "source": [
    "sns.pairplot(data[numerical_columns])\n",
    "plt.suptitle(\"Pairwise Scatter Plot Matrix\", y=1.02)\n",
    "plt.show()"
   ]
  },
  {
   "cell_type": "code",
   "execution_count": null,
   "id": "f6c8944e-fe09-4f33-80a6-fbdc83dc617b",
   "metadata": {},
   "outputs": [],
   "source": [
    "cross_tab = pd.crosstab(data['Device Model'], data['Operating System'])\n",
    "sns.heatmap(cross_tab, annot=True, cmap='Blues')\n",
    "plt.title('Device Model vs Operating System')\n",
    "plt.show()"
   ]
  },
  {
   "cell_type": "code",
   "execution_count": null,
   "id": "d90dedd1-9cbf-47fa-bf52-b3389ca036ff",
   "metadata": {},
   "outputs": [],
   "source": [
    "sns.scatterplot(x='App Usage Time (min/day)', y='Data Usage (MB/day)', hue='Gender', data=data)\n",
    "plt.title('App Usage vs Data Usage (colored by Gender)')\n",
    "plt.show()"
   ]
  }
 ],
 "metadata": {
  "kernelspec": {
   "display_name": "Python 3 (ipykernel)",
   "language": "python",
   "name": "python3"
  },
  "language_info": {
   "codemirror_mode": {
    "name": "ipython",
    "version": 3
   },
   "file_extension": ".py",
   "mimetype": "text/x-python",
   "name": "python",
   "nbconvert_exporter": "python",
   "pygments_lexer": "ipython3",
   "version": "3.12.2"
  }
 },
 "nbformat": 4,
 "nbformat_minor": 5
}
